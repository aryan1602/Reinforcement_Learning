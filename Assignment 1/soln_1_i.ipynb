{
 "cells": [
  {
   "cell_type": "code",
   "execution_count": 1,
   "id": "b6ab4065-3e97-45ff-ba42-4a2a4b1e68d3",
   "metadata": {
    "tags": []
   },
   "outputs": [],
   "source": [
    "from environment import GridWorld"
   ]
  },
  {
   "cell_type": "code",
   "execution_count": 2,
   "id": "7d364d41-60c3-4b7a-882a-df8f91b50dce",
   "metadata": {},
   "outputs": [],
   "source": [
    "import numpy as np\n",
    "import matplotlib.pyplot as plt "
   ]
  },
  {
   "cell_type": "code",
   "execution_count": 3,
   "id": "37199cba-d7e7-4fb4-b034-66b85d4584b2",
   "metadata": {
    "tags": []
   },
   "outputs": [],
   "source": [
    "def get_policy(params, sigma):\n",
    "    policy = params\n",
    "    temp = np.exp(params*sigma)\n",
    "    for i in range(0, params.shape[0]):\n",
    "        row_sum = temp[i].sum();\n",
    "        for j in range(0, params.shape[1]):\n",
    "            policy[i][j] = temp[i][j] / row_sum\n",
    "    return policy"
   ]
  },
  {
   "cell_type": "code",
   "execution_count": 4,
   "id": "6942ee0a-d050-4418-9ddb-22601a7c554b",
   "metadata": {},
   "outputs": [],
   "source": [
    "def get_return_over_episode(params, sigma):\n",
    "    env = GridWorld()\n",
    "    policy = get_policy(np.reshape(params, (25, 4)), sigma)\n",
    "    episode_return = env.reward\n",
    "    while(not env.is_end_state()):\n",
    "\n",
    "        (st, rw) = env.take_step(policy)\n",
    "      \n",
    "        episode_return += env.reward\n",
    "   \n",
    "    return episode_return\n",
    "        \n",
    "        \n",
    "    "
   ]
  },
  {
   "cell_type": "code",
   "execution_count": 5,
   "id": "c8a13226",
   "metadata": {},
   "outputs": [],
   "source": [
    "def run_trail(params, sigma):\n",
    "    return_sum = 0\n",
    "    for j in range(30):\n",
    "        return_sum += get_return_over_episode(params, sigma)\n",
    "    avg_return = return_sum / 30    \n",
    "    return avg_return"
   ]
  },
  {
   "cell_type": "code",
   "execution_count": 36,
   "id": "1d850801",
   "metadata": {},
   "outputs": [],
   "source": [
    "def run_trails(sigma):\n",
    "    params = np.random.normal(0, 1, (100))\n",
    "    avg_return_old = run_trail(params, sigma)\n",
    "    gains = []\n",
    "\n",
    "    for i in range(300):\n",
    "        gains.append(avg_return_old)\n",
    "        new_params = np.random.multivariate_normal(params, sigma*np.identity(100))\n",
    "        avg_return_new = run_trail(new_params, sigma)\n",
    "        if(avg_return_new > avg_return_old):\n",
    "            params = new_params\n",
    "            avg_return_old = avg_return_new\n",
    "\n",
    "    return (gains, params)\n",
    "        "
   ]
  }
 ],
 "metadata": {
  "kernelspec": {
   "display_name": "Python 3 (ipykernel)",
   "language": "python",
   "name": "python3"
  },
  "language_info": {
   "codemirror_mode": {
    "name": "ipython",
    "version": 3
   },
   "file_extension": ".py",
   "mimetype": "text/x-python",
   "name": "python",
   "nbconvert_exporter": "python",
   "pygments_lexer": "ipython3",
   "version": "3.11.5"
  }
 },
 "nbformat": 4,
 "nbformat_minor": 5
}
