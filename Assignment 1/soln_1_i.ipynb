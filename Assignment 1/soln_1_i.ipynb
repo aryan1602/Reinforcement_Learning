{
 "cells": [
  {
   "cell_type": "code",
   "execution_count": 2,
   "id": "b6ab4065-3e97-45ff-ba42-4a2a4b1e68d3",
   "metadata": {
    "tags": []
   },
   "outputs": [
    {
     "name": "stdout",
     "output_type": "stream",
     "text": [
      "HEllO WORLD\n"
     ]
    }
   ],
   "source": [
    "from environment import GridWorld"
   ]
  },
  {
   "cell_type": "code",
   "execution_count": 3,
   "id": "7d364d41-60c3-4b7a-882a-df8f91b50dce",
   "metadata": {},
   "outputs": [],
   "source": [
    "import numpy as np"
   ]
  },
  {
   "cell_type": "code",
   "execution_count": 23,
   "id": "8a065bac-09d8-436d-8f0a-f4ea427e52f3",
   "metadata": {
    "tags": []
   },
   "outputs": [],
   "source": [
    "params = np.random.normal(0, 1, (25, 4))"
   ]
  },
  {
   "cell_type": "code",
   "execution_count": 24,
   "id": "37199cba-d7e7-4fb4-b034-66b85d4584b2",
   "metadata": {
    "tags": []
   },
   "outputs": [],
   "source": [
    "def get_policy(param, sigma):\n",
    "    temp = np.exp(param*sigma)\n",
    "    for i in range(0, param.shape[0]):\n",
    "        row_sum = temp[i].sum();\n",
    "        for j in range(0, param.shape[1]):\n",
    "            param[i][j] = temp[i][j] / row_sum\n",
    "    return param"
   ]
  },
  {
   "cell_type": "code",
   "execution_count": 28,
   "id": "6942ee0a-d050-4418-9ddb-22601a7c554b",
   "metadata": {},
   "outputs": [],
   "source": [
    "def get_return_over_episode(param, sigma):\n",
    "    env = GridWorld()\n",
    "    policy = get_policy(param, sigma)\n",
    "    episode_return = env.reward\n",
    "    while(not env.is_end_state()):\n",
    "        k+=1\n",
    "        \n",
    "        (st, rw) = env.take_step(policy)\n",
    "      \n",
    "        episode_return += env.reward\n",
    "   \n",
    "    return episode_return\n",
    "        \n",
    "        \n",
    "    "
   ]
  },
  {
   "cell_type": "code",
   "execution_count": 29,
   "id": "a98afe62",
   "metadata": {},
   "outputs": [
    {
     "name": "stdout",
     "output_type": "stream",
     "text": [
      "109\n",
      "41\n",
      "91\n",
      "226\n",
      "31\n",
      "78\n",
      "131\n",
      "130\n",
      "40\n",
      "70\n",
      "132\n",
      "250\n",
      "318\n",
      "135\n",
      "32\n",
      "39\n",
      "82\n",
      "102\n",
      "164\n",
      "35\n",
      "85\n",
      "107\n",
      "136\n",
      "164\n",
      "71\n",
      "317\n",
      "35\n",
      "247\n",
      "201\n",
      "74\n"
     ]
    },
    {
     "data": {
      "text/plain": [
       "-20.0"
      ]
     },
     "execution_count": 29,
     "metadata": {},
     "output_type": "execute_result"
    }
   ],
   "source": [
    "\n",
    "for i in range(30):\n",
    "    reward_sum += get_return_over_episode(params, )\n",
    "reward_sum / 30"
   ]
  },
  {
   "cell_type": "code",
   "execution_count": null,
   "id": "01c0df04",
   "metadata": {},
   "outputs": [],
   "source": []
  },
  {
   "cell_type": "code",
   "execution_count": null,
   "id": "30beac35",
   "metadata": {},
   "outputs": [],
   "source": []
  }
 ],
 "metadata": {
  "kernelspec": {
   "display_name": "Python 3 (ipykernel)",
   "language": "python",
   "name": "python3"
  },
  "language_info": {
   "codemirror_mode": {
    "name": "ipython",
    "version": 3
   },
   "file_extension": ".py",
   "mimetype": "text/x-python",
   "name": "python",
   "nbconvert_exporter": "python",
   "pygments_lexer": "ipython3",
   "version": "3.11.5"
  }
 },
 "nbformat": 4,
 "nbformat_minor": 5
}
