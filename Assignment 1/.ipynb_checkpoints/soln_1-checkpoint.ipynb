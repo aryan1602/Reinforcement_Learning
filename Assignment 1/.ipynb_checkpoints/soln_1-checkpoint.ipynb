{
 "cells": [
  {
   "cell_type": "code",
   "execution_count": 38,
   "id": "b6ab4065-3e97-45ff-ba42-4a2a4b1e68d3",
   "metadata": {
    "tags": []
   },
   "outputs": [],
   "source": [
    "from environment import GridWorld"
   ]
  },
  {
   "cell_type": "code",
   "execution_count": 39,
   "id": "7d364d41-60c3-4b7a-882a-df8f91b50dce",
   "metadata": {},
   "outputs": [],
   "source": [
    "import numpy as np\n",
    "import matplotlib.pyplot as plt "
   ]
  },
  {
   "cell_type": "code",
   "execution_count": 40,
   "id": "37199cba-d7e7-4fb4-b034-66b85d4584b2",
   "metadata": {
    "tags": []
   },
   "outputs": [],
   "source": [
    "def get_policy(param, sigma):\n",
    "    policy = np.exp(param*sigma)\n",
    "    temp = np.exp(param*sigma)\n",
    "    for i in range(0, policy.shape[0]):\n",
    "        row_sum = temp[i].sum();\n",
    "        for j in range(0, policy.shape[1]):\n",
    "            policy[i][j] = policy[i][j]/ row_sum\n",
    "    return policy"
   ]
  },
  {
   "cell_type": "code",
   "execution_count": 41,
   "id": "6942ee0a-d050-4418-9ddb-22601a7c554b",
   "metadata": {},
   "outputs": [],
   "source": [
    "def get_return_over_episode(policy, sigma):\n",
    "    env = GridWorld()\n",
    "\n",
    "    \n",
    "    episode_return = env.reward\n",
    "    while(not env.is_end_state()):\n",
    "\n",
    "        (st, rw) = env.take_step(policy)\n",
    "      \n",
    "        episode_return += env.reward\n",
    "\n",
    "    return episode_return\n",
    "        \n",
    "        \n",
    "    "
   ]
  },
  {
   "cell_type": "code",
   "execution_count": 42,
   "id": "4faf6d24",
   "metadata": {},
   "outputs": [],
   "source": [
    "def run_trial(params, sigma):\n",
    "    policy = get_policy(np.reshape(params, (25, 4)), sigma)\n",
    "    return_sum = 0\n",
    "    for j in range(30):\n",
    "        return_sum += get_return_over_episode(policy, sigma)\n",
    "    avg_return = return_sum / 30 \n",
    "\n",
    "    return avg_return"
   ]
  },
  {
   "cell_type": "code",
   "execution_count": 43,
   "id": "cc7f889d",
   "metadata": {},
   "outputs": [],
   "source": [
    "def run_trials(sigma):\n",
    "    params = np.random.normal(0, 1, (100))\n",
    "    avg_return_old = run_trial(params, sigma)\n",
    "    gains = []\n",
    "    gains.append(avg_return_old)\n",
    "    for i in range(300):\n",
    "        \n",
    "        new_params = np.random.multivariate_normal(params, sigma*np.identity(100))\n",
    "     \n",
    "        avg_return_new = run_trial(new_params, sigma)\n",
    "        gains.append(avg_return_new)\n",
    "        if(avg_return_new > avg_return_old):\n",
    "\n",
    "            params = new_params\n",
    "            avg_return_old = avg_return_new\n",
    "\n",
    "    return (gains, params)\n",
    "        "
   ]
  }
 ],
 "metadata": {
  "kernelspec": {
   "display_name": "Python 3 (ipykernel)",
   "language": "python",
   "name": "python3"
  },
  "language_info": {
   "codemirror_mode": {
    "name": "ipython",
    "version": 3
   },
   "file_extension": ".py",
   "mimetype": "text/x-python",
   "name": "python",
   "nbconvert_exporter": "python",
   "pygments_lexer": "ipython3",
   "version": "3.11.5"
  }
 },
 "nbformat": 4,
 "nbformat_minor": 5
}
